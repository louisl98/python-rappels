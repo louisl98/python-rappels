{
 "cells": [
  {
   "cell_type": "code",
   "execution_count": 4,
   "metadata": {},
   "outputs": [
    {
     "name": "stdout",
     "output_type": "stream",
     "text": [
      "[3, 9, 27, 81, 243, 729, 2187, 6561, 19683, 59049]\n",
      "[6, 18, 54, 162, 486, 1458, 4374, 13122, 39366, 118098]\n"
     ]
    }
   ],
   "source": [
    "#Créer un nouveau notebook\n",
    "#Créer deux fonctions dans des fichiers différents :\n",
    "#- prend une valeur et retourne une liste de toutes les puissances de ce nombre jusqu'à la puissance 10\n",
    "#- prend une liste et double la valeur de ses éléments\n",
    "#Niveau notebook, vous définissez une troisième fonction qui fait appel aux 2 autres\n",
    "#Sauvegardez le notebook sous le nom exercices.ipynb\n",
    "\n",
    "from func1 import func1\n",
    "from func2 import func2\n",
    "\n",
    "nombre = 3\n",
    "\n",
    "listePuissances = func1(nombre)\n",
    "print(listePuissances)\n",
    "\n",
    "listeDoublee = func2(listePuissances)\n",
    "print(listeDoublee)"
   ]
  },
  {
   "cell_type": "code",
   "execution_count": null,
   "metadata": {},
   "outputs": [],
   "source": []
  }
 ],
 "metadata": {
  "kernelspec": {
   "display_name": "Python 3",
   "language": "python",
   "name": "python3"
  },
  "language_info": {
   "codemirror_mode": {
    "name": "ipython",
    "version": 3
   },
   "file_extension": ".py",
   "mimetype": "text/x-python",
   "name": "python",
   "nbconvert_exporter": "python",
   "pygments_lexer": "ipython3",
   "version": "3.8.0"
  }
 },
 "nbformat": 4,
 "nbformat_minor": 4
}
